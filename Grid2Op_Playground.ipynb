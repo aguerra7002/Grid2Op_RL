{
 "cells": [
  {
   "cell_type": "code",
   "execution_count": 1,
   "id": "3244a131",
   "metadata": {},
   "outputs": [],
   "source": [
    "import grid2op"
   ]
  },
  {
   "cell_type": "code",
   "execution_count": 2,
   "id": "e667a219",
   "metadata": {},
   "outputs": [
    {
     "name": "stderr",
     "output_type": "stream",
     "text": [
      "C:\\Users\\Alex Guerra\\Anaconda3\\lib\\site-packages\\grid2op\\MakeEnv\\Make.py:317: UserWarning: You are using a development environment. This environment is not intended for training agents. It might not be up to date and its primary use if for tests (hence the \"test=True\" you passed as argument). Use at your own risk.\n",
      "  warnings.warn(_MAKE_DEV_ENV_WARN)\n"
     ]
    }
   ],
   "source": [
    "# Make grid2op env\n",
    "env_name = \"l2rpn_case14_sandbox\"\n",
    "env_glop = grid2op.make(env_name, test=True)"
   ]
  },
  {
   "cell_type": "code",
   "execution_count": 3,
   "id": "ed26d55b",
   "metadata": {},
   "outputs": [
    {
     "name": "stdout",
     "output_type": "stream",
     "text": [
      "<grid2op.Space.GridObjects.CompleteObservation_l2rpn_case14_sandbox object at 0x000002E0F8AEF8E0>\n"
     ]
    }
   ],
   "source": [
    "# Get state\n",
    "state_glop = env_glop.reset()\n",
    "print(state_glop)"
   ]
  },
  {
   "cell_type": "code",
   "execution_count": 4,
   "id": "ff5a9fb2",
   "metadata": {},
   "outputs": [],
   "source": [
    "import gym\n",
    "import numpy as np\n",
    "from grid2op.gym_compat import GymEnv"
   ]
  },
  {
   "cell_type": "code",
   "execution_count": 6,
   "id": "74e88279",
   "metadata": {},
   "outputs": [
    {
     "name": "stdout",
     "output_type": "stream",
     "text": [
      "The \"env_gym\" is a gym environment: True\n"
     ]
    }
   ],
   "source": [
    "# Convert to gym environment\n",
    "env_gym = GymEnv(env_glop)\n",
    "print(f\"The \\\"env_gym\\\" is a gym environment: {isinstance(env_gym, gym.Env)}\")\n",
    "obs_gym = env_gym.reset()"
   ]
  },
  {
   "cell_type": "code",
   "execution_count": 7,
   "id": "6241a835",
   "metadata": {},
   "outputs": [
    {
     "name": "stdout",
     "output_type": "stream",
     "text": [
      "The size of the action space is : 160\n",
      "The size of the observation space is : 438\n"
     ]
    }
   ],
   "source": [
    "# Printing the size of the state/action space\n",
    "dim_act_space = np.sum([np.sum(env_gym.action_space[el].shape) for el in env_gym.action_space.spaces])\n",
    "print(f\"The size of the action space is : \"\n",
    "      f\"{dim_act_space}\")\n",
    "dim_obs_space = np.sum([np.sum(env_gym.observation_space[el].shape).astype(int) \n",
    "                        for el in env_gym.observation_space.spaces])\n",
    "print(f\"The size of the observation space is : \"\n",
    "      f\"{dim_obs_space}\")"
   ]
  },
  {
   "cell_type": "code",
   "execution_count": 8,
   "id": "0f0512e7",
   "metadata": {},
   "outputs": [
    {
     "name": "stdout",
     "output_type": "stream",
     "text": [
      "The new size of the action space is : 83\n"
     ]
    }
   ],
   "source": [
    "# Make the action space a toggle based space to reduce by factor of 2\n",
    "env_gym.action_space = env_gym.action_space.ignore_attr(\"set_bus\").ignore_attr(\"set_line_status\")\n",
    "\n",
    "new_dim_act_space = np.sum([np.sum(env_gym.action_space[el].shape) for el in env_gym.action_space.spaces])\n",
    "print(f\"The new size of the action space is : {new_dim_act_space}\")"
   ]
  },
  {
   "cell_type": "code",
   "execution_count": 14,
   "id": "23186681",
   "metadata": {},
   "outputs": [],
   "source": [
    "from grid2op.gym_compat import ContinuousToDiscreteConverter"
   ]
  },
  {
   "cell_type": "code",
   "execution_count": null,
   "id": "f79ddd3e",
   "metadata": {},
   "outputs": [],
   "source": [
    "# Convert continuous actions to discrete via \"binning\"\n",
    "env_gym.action_space = env_gym.action_space.reencode_space(\"redispatch\", ContinuousToDiscreteConverter(nb_bins=11))"
   ]
  },
  {
   "cell_type": "code",
   "execution_count": 15,
   "id": "5f8e7308",
   "metadata": {},
   "outputs": [
    {
     "name": "stdout",
     "output_type": "stream",
     "text": [
      "Dict(change_bus:MultiBinary(57), change_line_status:MultiBinary(20), redispatch:MultiDiscrete([11 11  1  1  1 11]))\n",
      "Dict(_shunt_bus:Box(-2147483648, 2147483647, (1,), int32), _shunt_p:Box(-inf, inf, (1,), float32), _shunt_q:Box(-inf, inf, (1,), float32), _shunt_v:Box(-inf, inf, (1,), float32), a_ex:Box(0.0, inf, (20,), float32), a_or:Box(0.0, inf, (20,), float32), actual_dispatch:Box(-140.0, 140.0, (6,), float32), attention_budget:Box(0.0, inf, (1,), float32), curtailment:Box(0.0, 1.0, (6,), float32), curtailment_limit:Box(0.0, 1.0, (6,), float32), day:Discrete(32), day_of_week:Discrete(8), duration_next_maintenance:Box(-1, 2147483647, (20,), int32), gen_p:Box(-5.410000324249268, 145.4099884033203, (6,), float32), gen_p_before_curtail:Box(-5.410000324249268, 145.4099884033203, (6,), float32), gen_q:Box(-inf, inf, (6,), float32), gen_v:Box(0.0, inf, (6,), float32), hour_of_day:Discrete(24), is_alarm_illegal:Discrete(2), line_status:MultiBinary(20), load_p:Box(-inf, inf, (11,), float32), load_q:Box(-inf, inf, (11,), float32), load_v:Box(0.0, inf, (11,), float32), minute_of_hour:Discrete(60), month:Discrete(13), p_ex:Box(-inf, inf, (20,), float32), p_or:Box(-inf, inf, (20,), float32), q_ex:Box(-inf, inf, (20,), float32), q_or:Box(-inf, inf, (20,), float32), rho:Box(0.0, inf, (20,), float32), target_dispatch:Box(-140.0, 140.0, (6,), float32), time_before_cooldown_line:Box(0, 10, (20,), int32), time_before_cooldown_sub:Box(0, 0, (14,), int32), time_next_maintenance:Box(-1, 2147483647, (20,), int32), time_since_last_alarm:Box(-1, 2147483647, (1,), int32), timestep_overflow:Box(-2147483648, 2147483647, (20,), int32), topo_vect:Box(-1, 2, (57,), int32), v_ex:Box(0.0, inf, (20,), float32), v_or:Box(0.0, inf, (20,), float32), was_alarm_used_after_game_over:Discrete(2), year:Discrete(2100))\n"
     ]
    }
   ],
   "source": [
    "# Print new action space\n",
    "print(env_gym.action_space)\n",
    "# Print observation space\n",
    "print(env_gym.observation_space)"
   ]
  },
  {
   "cell_type": "code",
   "execution_count": 16,
   "id": "f0776faa",
   "metadata": {},
   "outputs": [
    {
     "name": "stdout",
     "output_type": "stream",
     "text": [
      "The new size of the observation space is : 100 (it was 438 before!)\n"
     ]
    }
   ],
   "source": [
    "# Only keep info about the flow on the powerlines\n",
    "# rho, gen_p, load_p, and topo_vect\n",
    "env_gym.observation_space = env_gym.observation_space.keep_only_attr([\"rho\", \"gen_p\", \"load_p\", \"topo_vect\", \n",
    "                                                                      \"actual_dispatch\"])\n",
    "new_dim_obs_space = np.sum([np.sum(env_gym.observation_space[el].shape).astype(int) \n",
    "                        for el in env_gym.observation_space.spaces])\n",
    "print(f\"The new size of the observation space is : \"\n",
    "      f\"{new_dim_obs_space} (it was {dim_obs_space} before!)\")"
   ]
  },
  {
   "cell_type": "code",
   "execution_count": 18,
   "id": "6256fd49",
   "metadata": {},
   "outputs": [],
   "source": [
    "from grid2op.gym_compat import ScalerAttrConverter\n",
    "from gym.spaces import Box"
   ]
  },
  {
   "cell_type": "code",
   "execution_count": 19,
   "id": "1a97067d",
   "metadata": {},
   "outputs": [
    {
     "name": "stderr",
     "output_type": "stream",
     "text": [
      "C:\\Users\\Alex Guerra\\Anaconda3\\lib\\site-packages\\gym\\logger.py:30: UserWarning: \u001b[33mWARN: Box bound precision lowered by casting to float32\u001b[0m\n",
      "  warnings.warn(colorize('%s: %s'%('WARN', msg % args), 'yellow'))\n"
     ]
    },
    {
     "data": {
      "text/plain": [
       "Dict(actual_dispatch:Box(-1.0, 1.0, (6,), float32), gen_p:Box(-0.1352500021457672, 1.1352499723434448, (6,), float32), load_p:Box(-inf, inf, (11,), float32), rho:Box(0.0, inf, (20,), float32), topo_vect:Box(-1, 2, (57,), int32))"
      ]
     },
     "execution_count": 19,
     "metadata": {},
     "output_type": "execute_result"
    }
   ],
   "source": [
    "# Scale observation space to be more normalized for more stable learning\n",
    "ob_space = env_gym.observation_space\n",
    "ob_space = ob_space.reencode_space(\"actual_dispatch\",\n",
    "                                   ScalerAttrConverter(substract=0.,\n",
    "                                                       divide=env_glop.gen_pmax\n",
    "                                                       )\n",
    "                                   )\n",
    "ob_space = ob_space.reencode_space(\"gen_p\",\n",
    "                                   ScalerAttrConverter(substract=0.,\n",
    "                                                       divide=env_glop.gen_pmax\n",
    "                                                       )\n",
    "                                   )\n",
    "ob_space = ob_space.reencode_space(\"load_p\",\n",
    "                                  ScalerAttrConverter(substract=obs_gym[\"load_p\"],\n",
    "                                                      divide=0.5 * obs_gym[\"load_p\"]\n",
    "                                                      )\n",
    "                                  )\n",
    "\n",
    "# for even more customization, you can use any functions you want !\n",
    "shape_ = (env_glop.dim_topo, env_glop.dim_topo)\n",
    "env_gym.observation_space.add_key(\"connectivity_matrix\",\n",
    "                                  lambda obs: obs.connectivity_matrix(),  # can be any function returning a gym space\n",
    "                                  Box(shape=shape_,\n",
    "                                      low=np.zeros(shape_),\n",
    "                                      high=np.ones(shape_),\n",
    "                                    )  # this \"Box\" should represent the return type of the above function\n",
    "                                  )\n",
    "env_gym.observation_space = ob_space\n",
    "env_gym.observation_space"
   ]
  },
  {
   "cell_type": "code",
   "execution_count": null,
   "id": "315638c8",
   "metadata": {},
   "outputs": [],
   "source": []
  }
 ],
 "metadata": {
  "kernelspec": {
   "display_name": "Python 3",
   "language": "python",
   "name": "python3"
  },
  "language_info": {
   "codemirror_mode": {
    "name": "ipython",
    "version": 3
   },
   "file_extension": ".py",
   "mimetype": "text/x-python",
   "name": "python",
   "nbconvert_exporter": "python",
   "pygments_lexer": "ipython3",
   "version": "3.8.8"
  }
 },
 "nbformat": 4,
 "nbformat_minor": 5
}
